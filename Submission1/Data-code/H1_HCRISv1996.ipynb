{
 "cells": [
  {
   "cell_type": "code",
   "execution_count": 4,
   "id": "c39068a4-bc21-4ec2-a234-6223452e5d2a",
   "metadata": {},
   "outputs": [
    {
     "name": "stdout",
     "output_type": "stream",
     "text": [
      "Processing year: 1998\n",
      "Processing year: 1999\n",
      "Processing year: 2000\n",
      "Processing year: 2001\n",
      "Processing year: 2002\n",
      "Processing year: 2003\n",
      "Processing year: 2004\n",
      "Processing year: 2005\n",
      "Processing year: 2006\n",
      "Processing year: 2007\n",
      "Processing year: 2008\n",
      "Processing year: 2009\n",
      "Processing year: 2010\n",
      "Processing year: 2011\n"
     ]
    }
   ],
   "source": [
    "import pandas as pd\n",
    "import warnings\n",
    "warnings.simplefilter('ignore')\n",
    "\n",
    "# Define the list of variables and locations\n",
    "hcris_vars = pd.DataFrame([\n",
    "    ('beds', 'S300001', '01200', '0100', 'numeric'),\n",
    "    ('tot_charges', 'G300000', '00100', '0100', 'numeric'),\n",
    "    ('tot_discounts', 'G300000', '00200', '0100', 'numeric'),\n",
    "    ('tot_operating_exp', 'G300000', '00400', '0100', 'numeric'),\n",
    "    ('ip_charges', 'G200000', '00100', '0100', 'numeric'),\n",
    "    ('icu_charges', 'G200000', '01500', '0100', 'numeric'),\n",
    "    ('ancillary_charges', 'G200000', '01700', '0100', 'numeric'),\n",
    "    ('tot_discharges', 'S300001', '00100', '1500', 'numeric'),\n",
    "    ('mcare_discharges', 'S300001', '00100', '1300', 'numeric'),\n",
    "    ('mcaid_discharges', 'S300001', '00100', '1400', 'numeric'),\n",
    "    ('tot_mcare_payment', 'E00A18A', '01600', '0100', 'numeric'),\n",
    "    ('secondary_mcare_payment', 'E00A18A', '01700', '0100', 'numeric'),\n",
    "    ('street', 'S200000', '00100', '0100', 'alpha'),\n",
    "    ('city', 'S200000', '00101', '0100', 'alpha'),\n",
    "    ('state', 'S200000', '00101', '0200', 'alpha'),\n",
    "    ('zip', 'S200000', '00101', '0300', 'alpha'),\n",
    "    ('county', 'S200000', '00101', '0400', 'alpha')\n",
    "], columns=['variable', 'WKSHT_CD', 'LINE_NUM', 'CLMN_NUM', 'source'])\n",
    "\n",
    "# Pull relevant data: v1996 of HCRIS forms run through 2011 due to lags in processing and hospital fiscal years\n",
    "final_hcris_v1996 = None\n",
    "\n",
    "for year in range(1998, 2012):\n",
    "    print('Processing year:', year)\n",
    "    alpha_path = f\"../../data/Input/HCRIS_v1996/HospitalFY{year}/hosp_{year}_ALPHA.CSV\"\n",
    "    numeric_path = f\"../../data/Input/HCRIS_v1996/HospitalFY{year}/hosp_{year}_NMRC.CSV\"\n",
    "    report_path = f\"../../data/Input/HCRIS_v1996/HospitalFY{year}/hosp_{year}_RPT.CSV\"\n",
    "\n",
    "    HCRIS_alpha = pd.read_csv(alpha_path, names=['RPT_REC_NUM', 'WKSHT_CD', 'LINE_NUM', 'CLMN_NUM', 'ITM_VAL_NUM'], dtype = str)\n",
    "    HCRIS_numeric = pd.read_csv(numeric_path, names=['RPT_REC_NUM', 'WKSHT_CD', 'LINE_NUM', 'CLMN_NUM', 'ITM_VAL_NUM'], dtype = str)\n",
    "    HCRIS_report = pd.read_csv(report_path, names=['RPT_REC_NUM', 'PRVDR_CTRL_TYPE_CD', 'PRVDR_NUM', 'NPI',\n",
    "                                                   'RPT_STUS_CD', 'FY_BGN_DT', 'FY_END_DT', 'PROC_DT',\n",
    "                                                   'INITL_RPT_SW', 'LAST_RPT_SW', 'TRNSMTL_NUM', 'FI_NUM',\n",
    "                                                   'ADR_VNDR_CD', 'FI_CREAT_DT', 'UTIL_CD', 'NPR_DT',\n",
    "                                                   'SPEC_IND', 'FI_RCPT_DT'], dtype = str) \n",
    "    \n",
    "    final_reports = HCRIS_report[['RPT_REC_NUM', 'PRVDR_NUM', 'NPI', 'FY_BGN_DT', 'FY_END_DT', 'PROC_DT',\n",
    "                                  'FI_CREAT_DT', 'RPT_STUS_CD']]\n",
    "    final_reports.columns = ['report', 'provider_number', 'npi', 'fy_start', 'fy_end', 'date_processed',\n",
    "                             'date_created', 'status']\n",
    "    final_reports['year'] = year\n",
    "\n",
    "    for _, row in hcris_vars.iterrows():\n",
    "        hcris_data = HCRIS_numeric if row['source'] == 'numeric' else HCRIS_alpha\n",
    "        val = hcris_data[(hcris_data['WKSHT_CD'] == row['WKSHT_CD']) &\n",
    "                         (hcris_data['LINE_NUM'] == row['LINE_NUM']) &\n",
    "                         (hcris_data['CLMN_NUM'] == row['CLMN_NUM'])][['RPT_REC_NUM', 'ITM_VAL_NUM']]\n",
    "        val.columns = ['report', row['variable']]\n",
    "        final_reports = final_reports.merge(val, on='report', how='left')\n",
    "        if row ['source'] == 'numeric':\n",
    "            final_reports[row['variable']]=final_reports[row['variable']].astype(float)\n",
    "    \n",
    "    if final_hcris_v1996 is None:\n",
    "        final_hcris_v1996 = final_reports\n",
    "    else:\n",
    "        final_hcris_v1996 = pd.concat([final_hcris_v1996, final_reports], ignore_index=True)\n",
    "\n",
    "# Save final dataset\n",
    "final_hcris_v1996.to_csv('../../data/Output/HCRIS_1996.csv', index=False)"
   ]
  },
  {
   "cell_type": "code",
   "execution_count": null,
   "id": "47aadb30",
   "metadata": {},
   "outputs": [],
   "source": []
  }
 ],
 "metadata": {
  "kernelspec": {
   "display_name": "Python 3",
   "language": "python",
   "name": "python3"
  },
  "language_info": {
   "codemirror_mode": {
    "name": "ipython",
    "version": 3
   },
   "file_extension": ".py",
   "mimetype": "text/x-python",
   "name": "python",
   "nbconvert_exporter": "python",
   "pygments_lexer": "ipython3",
   "version": "3.9.13"
  }
 },
 "nbformat": 4,
 "nbformat_minor": 5
}
