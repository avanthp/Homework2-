{
 "cells": [
  {
   "cell_type": "code",
   "execution_count": 66,
   "id": "1b323c04",
   "metadata": {},
   "outputs": [],
   "source": [
    "import pandas as pd\n",
    "import warnings\n",
    "warnings.simplefilter('ignore')"
   ]
  },
  {
   "cell_type": "code",
   "execution_count": 67,
   "id": "c50c21c3",
   "metadata": {},
   "outputs": [],
   "source": [
    "# Define variables and locations\n",
    "hcris_vars = [\n",
    "    ('beds', 'S300001', '01400', '00200', 'numeric'),\n",
    "    ('tot_charges', 'G300000', '00100', '00100', 'numeric'),\n",
    "    ('tot_discounts', 'G300000', '00200', '00100', 'numeric'),\n",
    "    ('tot_operating_exp', 'G300000', '00400', '00100', 'numeric'),\n",
    "    ('ip_charges', 'G200000', '00100', '00100', 'numeric'),\n",
    "    ('icu_charges', 'G200000', '01600', '00100', 'numeric'),\n",
    "    ('ancillary_charges', 'G200000', '01800', '00100', 'numeric'),\n",
    "    ('tot_discharges', 'S300001', '00100', '01500', 'numeric'),\n",
    "    ('mcare_discharges', 'S300001', '00100', '01300', 'numeric'),\n",
    "    ('mcaid_discharges', 'S300001', '00100', '01400', 'numeric'),\n",
    "    ('tot_mcare_payment', 'E00A18A', '05900', '00100', 'numeric'),\n",
    "    ('secondary_mcare_payment', 'E00A18A', '06000', '00100', 'numeric'),\n",
    "    ('street', 'S200001', '00100', '00100', 'alpha'),\n",
    "    ('city', 'S200001', '00200', '00100', 'alpha'),\n",
    "    ('state', 'S200001', '00200', '00200', 'alpha'),\n",
    "    ('zip', 'S200001', '00200', '00300', 'alpha'),\n",
    "    ('county', 'S200001', '00200', '00400', 'alpha'),\n",
    "    ('hvbp_payment', 'E00A18A', '07093', '00100', 'numeric'),\n",
    "    ('hrrp_payment', 'E00A18A', '07094', '00100', 'numeric')\n",
    "]\n",
    "\n",
    "\n"
   ]
  },
  {
   "cell_type": "code",
   "execution_count": 68,
   "id": "8b4b2995",
   "metadata": {},
   "outputs": [],
   "source": [
    "# Pull relevant data\n",
    "final_hcris_v2010 = None"
   ]
  },
  {
   "cell_type": "code",
   "execution_count": 69,
   "id": "82d78115",
   "metadata": {},
   "outputs": [
    {
     "name": "stdout",
     "output_type": "stream",
     "text": [
      "Processing year: 2010\n",
      "Processing year: 2011\n",
      "Processing year: 2012\n",
      "Processing year: 2013\n",
      "Processing year: 2014\n",
      "Processing year: 2015\n",
      "Processing year: 2016\n",
      "Processing year: 2017\n"
     ]
    }
   ],
   "source": [
    "for year in range(2010, 2018):\n",
    "    print('Processing year:', year)\n",
    "    alpha_p = f\"../../data/Input/HCRIS_v2010/HospitalFY{year}/hosp10_{year}_ALPHA.CSV\"\n",
    "    numeric_p = f\"../../data/Input/HCRIS_v2010/HospitalFY{year}/hosp10_{year}_NMRC.CSV\"\n",
    "    report_p = f\"../../data/Input/HCRIS_v2010/HospitalFY{year}/hosp10_{year}_RPT.CSV\""
   ]
  },
  {
   "cell_type": "code",
   "execution_count": 70,
   "id": "4ef7ede7",
   "metadata": {},
   "outputs": [],
   "source": [
    "HCRIS_alpha = pd.read_csv(alpha_p, names=['RPT_REC_NUM', 'WKSHT_CD', 'LINE_NUM', 'CLMN_NUM', 'ITM_VAL_NUM'], dtype = str)\n",
    "HCRIS_numeric = pd.read_csv(numeric_p, names=['RPT_REC_NUM', 'WKSHT_CD', 'LINE_NUM', 'CLMN_NUM', 'ITM_VAL_NUM'], dtype = str)\n",
    "HCRIS_report = pd.read_csv(report_p, names=['RPT_REC_NUM', 'PRVDR_CTRL_TYPE_CD', 'PRVDR_NUM', 'NPI',\n",
    "                                                   'RPT_STUS_CD', 'FY_BGN_DT', 'FY_END_DT', 'PROC_DT',\n",
    "                                                   'INITL_RPT_SW', 'LAST_RPT_SW', 'TRNSMTL_NUM', 'FI_NUM',\n",
    "                                                   'ADR_VNDR_CD', 'FI_CREAT_DT', 'UTIL_CD', 'NPR_DT',\n",
    "                                                   'SPEC_IND', 'FI_RCPT_DT'], dtype = str)\n",
    "\n",
    "final_reports = HCRIS_report[['RPT_REC_NUM', 'PRVDR_NUM', 'NPI', 'FY_BGN_DT', 'FY_END_DT', 'PROC_DT',\n",
    "                                  'FI_CREAT_DT', 'RPT_STUS_CD']]\n",
    "final_reports.columns = ['report', 'provider_number', 'npi', 'fy_start', 'fy_end', 'date_processed',\n",
    "                             'date_created', 'status']\n",
    "final_reports['year'] = year\n",
    "\n",
    "# Convert hcris_vars to DataFrame\n",
    "hcris_vars_df = pd.DataFrame(hcris_vars, columns=['variable', 'WKSHT_CD', 'LINE_NUM', 'CLMN_NUM', 'source'])\n",
    "\n",
    "for _, row in hcris_vars_df.iterrows():\n",
    "        hcris_data = HCRIS_numeric if row['source'] == 'numeric' else HCRIS_alpha\n",
    "        val = hcris_data[(hcris_data['WKSHT_CD'] == row['WKSHT_CD']) &\n",
    "                         (hcris_data['LINE_NUM'] == row['LINE_NUM']) &\n",
    "                         (hcris_data['CLMN_NUM'] == row['CLMN_NUM'])][['RPT_REC_NUM', 'ITM_VAL_NUM']]\n",
    "        val.columns = ['report', row['variable']]\n",
    "        final_reports = final_reports.merge(val, on='report', how='left')\n",
    "        if row ['source'] == 'numeric':\n",
    "                final_reports[row['variable']]=final_reports[row['variable']].astype(float)\n",
    "    \n",
    "if final_hcris_v2010 is None:\n",
    "        final_hcris_v2010 = final_reports\n",
    "else:\n",
    "        final_hcris_v2010 = pd.concat([final_hcris_v2010, final_reports], ignore_index=True)\n",
    "\n",
    "# Save final dataset\n",
    "final_hcris_v2010.to_csv('../../data/Output/HCRIS_V2010.csv', index=False)\n",
    "\n"
   ]
  },
  {
   "cell_type": "code",
   "execution_count": null,
   "id": "dd492bea",
   "metadata": {},
   "outputs": [],
   "source": []
  }
 ],
 "metadata": {
  "kernelspec": {
   "display_name": "Python 3",
   "language": "python",
   "name": "python3"
  },
  "language_info": {
   "codemirror_mode": {
    "name": "ipython",
    "version": 3
   },
   "file_extension": ".py",
   "mimetype": "text/x-python",
   "name": "python",
   "nbconvert_exporter": "python",
   "pygments_lexer": "ipython3",
   "version": "3.9.13"
  }
 },
 "nbformat": 4,
 "nbformat_minor": 5
}
