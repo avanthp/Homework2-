{
 "cells": [
  {
   "cell_type": "code",
   "execution_count": 34,
   "id": "20aedb62-16b0-4686-b992-2250cb55087e",
   "metadata": {},
   "outputs": [],
   "source": [
    "import pandas as pd\n",
    "import numpy as np\n",
    "\n",
    "# Call individual scripts\n",
    "final_hcris_v1996 = pd.read_csv('../../data/output/HCRIS_v1996.csv')\n",
    "final_hcris_v2010 = pd.read_csv('../../data/output/HCRIS_v2010.csv')\n",
    "\n",
    "# Create missing variables for columns introduced in v2010\n",
    "final_hcris_v1996['hvbp_payment'] = np.nan\n",
    "final_hcris_v1996['hrrp_payment'] = np.nan\n",
    "\n",
    "\n",
    "# Combine v1996 and v2010 datasets\n",
    "final_hcris = pd.concat([final_hcris_v1996, final_hcris_v2010])\n",
    "\n",
    "# Convert date columns to datetime format\n",
    "for col in ['fy_end', 'fy_start', 'date_processed', 'date_created']:\n",
    "    final_hcris[col] = pd.to_datetime(final_hcris[col], format='%m/%d/%Y')\n",
    "\n",
    "# Convert to absolute values\n",
    "final_hcris['tot_discounts'] = final_hcris['tot_discounts'].abs()\n",
    "final_hcris['hrrp_payment'] = final_hcris['hrrp_payment'].abs()\n",
    "\n",
    "# Extract fiscal year and sort\n",
    "final_hcris['fyear'] = final_hcris['fy_end'].dt.year\n",
    "final_hcris = final_hcris.sort_values(by=['provider_number', 'fyear']).drop(columns=['year'], errors='ignore')\n",
    "\n",
    "# Count hospitals per year\n",
    "hospital_counts = final_hcris.groupby('fyear').size()\n",
    "\n",
    "# Clean data\n",
    "# Create count of reports by hospital fiscal year\n",
    "final_hcris['total_reports'] = final_hcris.groupby(['provider_number', 'fyear'])['provider_number'].transform('count')\n",
    "final_hcris['report_number'] = final_hcris.groupby(['provider_number', 'fyear']).cumcount() + 1\n",
    "\n",
    "final_hcris.to_csv('../../data/output/HCRIS.csv', index=False)\n"
   ]
  },
  {
   "cell_type": "code",
   "execution_count": 32,
   "id": "c113630e",
   "metadata": {},
   "outputs": [
    {
     "name": "stdout",
     "output_type": "stream",
     "text": [
      "       report  provider_number  npi   fy_start     fy_end date_processed  \\\n",
      "242    269995            10001  NaN 2009-10-01 2010-09-30     2011-08-09   \n",
      "4093   269995            10001  NaN 2009-10-01 2010-09-30     2011-08-09   \n",
      "2440   629478            10001  NaN 2016-10-01 2017-09-30     2018-07-19   \n",
      "8561   629478            10001  NaN 2016-10-01 2017-09-30     2018-07-19   \n",
      "24     263654            10005  NaN 2009-10-01 2010-09-30     2011-03-09   \n",
      "...       ...              ...  ...        ...        ...            ...   \n",
      "8708   629813           673062  NaN 2017-01-01 2017-12-31     2018-07-19   \n",
      "5065   640155           673063  NaN 2017-08-01 2018-07-31     2019-01-24   \n",
      "11186  640155           673063  NaN 2017-08-01 2018-07-31     2019-01-24   \n",
      "3052   632312           673064  NaN 2017-04-01 2018-03-31     2018-09-17   \n",
      "9173   632312           673064  NaN 2017-04-01 2018-03-31     2018-09-17   \n",
      "\n",
      "      date_created  status  beds  tot_charges  ...  street  city  state  zip  \\\n",
      "242     2011-08-05       1   NaN          NaN  ...     NaN   NaN    NaN  NaN   \n",
      "4093    2011-08-05       1   NaN          NaN  ...     NaN   NaN    NaN  NaN   \n",
      "2440    2018-07-10       5   NaN          NaN  ...     NaN   NaN    NaN  NaN   \n",
      "8561    2018-07-10       5   NaN          NaN  ...     NaN   NaN    NaN  NaN   \n",
      "24      2011-03-07       1   NaN          NaN  ...     NaN   NaN    NaN  NaN   \n",
      "...            ...     ...   ...          ...  ...     ...   ...    ...  ...   \n",
      "8708    2018-06-26       1   NaN          NaN  ...     NaN   NaN    NaN  NaN   \n",
      "5065    2019-01-03       1   NaN          NaN  ...     NaN   NaN    NaN  NaN   \n",
      "11186   2019-01-03       1   NaN          NaN  ...     NaN   NaN    NaN  NaN   \n",
      "3052    2018-09-10       1   NaN          NaN  ...     NaN   NaN    NaN  NaN   \n",
      "9173    2018-09-10       1   NaN          NaN  ...     NaN   NaN    NaN  NaN   \n",
      "\n",
      "       county  hvbp_payment  hrrp_payment  fyear  total_reports  report_number  \n",
      "242       NaN           NaN           NaN   2010              2              1  \n",
      "4093      NaN           NaN           NaN   2010              2              2  \n",
      "2440      NaN           NaN           NaN   2017              2              1  \n",
      "8561      NaN           NaN           NaN   2017              2              2  \n",
      "24        NaN           NaN           NaN   2010              2              1  \n",
      "...       ...           ...           ...    ...            ...            ...  \n",
      "8708      NaN           NaN           NaN   2017              2              2  \n",
      "5065      NaN           NaN           NaN   2018              2              1  \n",
      "11186     NaN           NaN           NaN   2018              2              2  \n",
      "3052      NaN           NaN           NaN   2018              2              1  \n",
      "9173      NaN           NaN           NaN   2018              2              2  \n",
      "\n",
      "[19944 rows x 30 columns]\n"
     ]
    }
   ],
   "source": [
    "print(final_hcris)\n",
    "final_hcris.to_csv('../../data/output/HCRIS.csv', index=False)\n",
    "\n"
   ]
  },
  {
   "cell_type": "code",
   "execution_count": null,
   "id": "8d66baf9",
   "metadata": {},
   "outputs": [],
   "source": []
  }
 ],
 "metadata": {
  "kernelspec": {
   "display_name": "Python 3",
   "language": "python",
   "name": "python3"
  },
  "language_info": {
   "codemirror_mode": {
    "name": "ipython",
    "version": 3
   },
   "file_extension": ".py",
   "mimetype": "text/x-python",
   "name": "python",
   "nbconvert_exporter": "python",
   "pygments_lexer": "ipython3",
   "version": "3.9.13"
  }
 },
 "nbformat": 4,
 "nbformat_minor": 5
}
